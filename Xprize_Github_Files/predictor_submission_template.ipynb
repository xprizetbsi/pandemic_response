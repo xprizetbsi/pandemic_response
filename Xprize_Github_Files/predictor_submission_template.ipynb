{
 "cells": [
  {
   "cell_type": "raw",
   "metadata": {},
   "source": [
    "# Copyright 2020 (c) Cognizant Digital Business, Evolutionary AI. All rights reserved. Issued under the Apache 2.0 License."
   ]
  },
  {
   "cell_type": "markdown",
   "metadata": {},
   "source": [
    "# Predictor submission\n",
    "\n",
    "\n",
    "The COVID-19 crisis is proving to be one of the world’s most critical challenges — a challenge bigger than any one government or organization can tackle on its own. Right now, countries around the world are not equipped to implement health and safety interventions and policies that effectively protect both their citizens and economies.\n",
    " \n",
    "In order to fight this pandemic, we need access to localized, data-driven planning systems and the latest in artificial intelligence (AI) to help decision-makers develop and implement robust Intervention Plans (IPs) that successfully reduce infection cases and minimize economic impact.\n",
    "\n",
    "**Intervention Plan (IP)**: A plan of action or schedule for setting and resetting various intervention policies at various strengths or stringency.\n",
    "\n",
    "**Predictor Model**: Given a time sequence of IPs in effect, and other data like a time sequence of number of cases, a predictor model will estimate the number of cases in the future."
   ]
  },
  {
   "cell_type": "markdown",
   "metadata": {},
   "source": [
    "## Intervention Plan"
   ]
  },
  {
   "cell_type": "markdown",
   "metadata": {},
   "source": [
    "An intervention plan consists of a set of [containment and closure policies](https://github.com/OxCGRT/covid-policy-tracker/blob/master/documentation/codebook.md#containment-and-closure-policies), as well as [health system policies](https://github.com/OxCGRT/covid-policy-tracker/blob/master/documentation/codebook.md#health-system-policies). Checkout the links to understand what these policies correspond to and how they are coded.\n",
    "\n",
    "For instance the **C1_School closing** policy, which records closings of schools and universities, is coded like that:\n",
    "\n",
    "| Code      | Meaning     |\n",
    "| :-------- | :---------- |\n",
    "|  0        | no measures |\n",
    "|  1        | recommend closing|\n",
    "|  2        | require closing (only some levels or categories, eg just high school, or just public schools) |\n",
    "|  3        | require closing all levels |\n",
    "| Blank     | no data |\n",
    "\n",
    "Interventions plans are recorded daily for each countries and sometimes for regions. For this competition, the following policies are considered:"
   ]
  },
  {
   "cell_type": "code",
   "execution_count": 1,
   "metadata": {},
   "outputs": [],
   "source": [
    "IP_COLUMNS = ['C1_School closing',\n",
    "              'C2_Workplace closing',\n",
    "              'C3_Cancel public events',\n",
    "              'C4_Restrictions on gatherings',\n",
    "              'C5_Close public transport',\n",
    "              'C6_Stay at home requirements',\n",
    "              'C7_Restrictions on internal movement',\n",
    "              'C8_International travel controls',\n",
    "              'H1_Public information campaigns',\n",
    "              'H2_Testing policy',\n",
    "              'H3_Contact tracing',\n",
    "              'H6_Facial Coverings']"
   ]
  },
  {
   "cell_type": "markdown",
   "metadata": {},
   "source": [
    "## Data\n",
    "The university of Oxford Blavatnik School of Government is [tracking coronavirus government responses](https://www.bsg.ox.ac.uk/research/research-projects/coronavirus-government-response-tracker). They have assembled a [data set](https://raw.githubusercontent.com/OxCGRT/covid-policy-tracker/master/data/OxCGRT_latest.csv) containing historical data since January 1st, 2020 for the number of cases and IPs for most countries in the world."
   ]
  },
  {
   "cell_type": "code",
   "execution_count": 2,
   "metadata": {},
   "outputs": [],
   "source": [
    "import pandas as pd"
   ]
  },
  {
   "cell_type": "code",
   "execution_count": 3,
   "metadata": {},
   "outputs": [],
   "source": [
    "DATA_URL = 'https://raw.githubusercontent.com/OxCGRT/covid-policy-tracker/master/data/OxCGRT_latest.csv'\n",
    "df = pd.read_csv(DATA_URL,\n",
    "                 parse_dates=['Date'],\n",
    "                 encoding=\"ISO-8859-1\",\n",
    "                 dtype={\"RegionName\": str,\n",
    "                        \"RegionCode\": str},\n",
    "                 error_bad_lines=False)"
   ]
  },
  {
   "cell_type": "code",
   "execution_count": 4,
   "metadata": {},
   "outputs": [
    {
     "data": {
      "text/html": [
       "<div>\n",
       "<style scoped>\n",
       "    .dataframe tbody tr th:only-of-type {\n",
       "        vertical-align: middle;\n",
       "    }\n",
       "\n",
       "    .dataframe tbody tr th {\n",
       "        vertical-align: top;\n",
       "    }\n",
       "\n",
       "    .dataframe thead th {\n",
       "        text-align: right;\n",
       "    }\n",
       "</style>\n",
       "<table border=\"1\" class=\"dataframe\">\n",
       "  <thead>\n",
       "    <tr style=\"text-align: right;\">\n",
       "      <th></th>\n",
       "      <th>CountryName</th>\n",
       "      <th>CountryCode</th>\n",
       "      <th>RegionName</th>\n",
       "      <th>RegionCode</th>\n",
       "      <th>Jurisdiction</th>\n",
       "      <th>Date</th>\n",
       "      <th>C1_School closing</th>\n",
       "      <th>C1_Flag</th>\n",
       "      <th>C2_Workplace closing</th>\n",
       "      <th>C2_Flag</th>\n",
       "      <th>...</th>\n",
       "      <th>StringencyIndex</th>\n",
       "      <th>StringencyIndexForDisplay</th>\n",
       "      <th>StringencyLegacyIndex</th>\n",
       "      <th>StringencyLegacyIndexForDisplay</th>\n",
       "      <th>GovernmentResponseIndex</th>\n",
       "      <th>GovernmentResponseIndexForDisplay</th>\n",
       "      <th>ContainmentHealthIndex</th>\n",
       "      <th>ContainmentHealthIndexForDisplay</th>\n",
       "      <th>EconomicSupportIndex</th>\n",
       "      <th>EconomicSupportIndexForDisplay</th>\n",
       "    </tr>\n",
       "  </thead>\n",
       "  <tbody>\n",
       "    <tr>\n",
       "      <th>18102</th>\n",
       "      <td>Brazil</td>\n",
       "      <td>BRA</td>\n",
       "      <td>NaN</td>\n",
       "      <td>NaN</td>\n",
       "      <td>NAT_TOTAL</td>\n",
       "      <td>2020-07-21</td>\n",
       "      <td>3.0</td>\n",
       "      <td>0.0</td>\n",
       "      <td>3.0</td>\n",
       "      <td>0.0</td>\n",
       "      <td>...</td>\n",
       "      <td>81.02</td>\n",
       "      <td>81.02</td>\n",
       "      <td>80.48</td>\n",
       "      <td>80.48</td>\n",
       "      <td>72.22</td>\n",
       "      <td>72.22</td>\n",
       "      <td>75.64</td>\n",
       "      <td>75.64</td>\n",
       "      <td>50.0</td>\n",
       "      <td>50.0</td>\n",
       "    </tr>\n",
       "    <tr>\n",
       "      <th>22488</th>\n",
       "      <td>Canada</td>\n",
       "      <td>CAN</td>\n",
       "      <td>Northwest Territories</td>\n",
       "      <td>CAN_NT</td>\n",
       "      <td>STATE_TOTAL</td>\n",
       "      <td>2020-10-19</td>\n",
       "      <td>0.0</td>\n",
       "      <td>NaN</td>\n",
       "      <td>2.0</td>\n",
       "      <td>1.0</td>\n",
       "      <td>...</td>\n",
       "      <td>60.19</td>\n",
       "      <td>60.19</td>\n",
       "      <td>67.86</td>\n",
       "      <td>67.86</td>\n",
       "      <td>60.56</td>\n",
       "      <td>60.56</td>\n",
       "      <td>58.33</td>\n",
       "      <td>58.33</td>\n",
       "      <td>75.0</td>\n",
       "      <td>75.0</td>\n",
       "    </tr>\n",
       "    <tr>\n",
       "      <th>81755</th>\n",
       "      <td>United States</td>\n",
       "      <td>USA</td>\n",
       "      <td>Florida</td>\n",
       "      <td>US_FL</td>\n",
       "      <td>STATE_TOTAL</td>\n",
       "      <td>2020-05-11</td>\n",
       "      <td>3.0</td>\n",
       "      <td>1.0</td>\n",
       "      <td>3.0</td>\n",
       "      <td>0.0</td>\n",
       "      <td>...</td>\n",
       "      <td>77.31</td>\n",
       "      <td>77.31</td>\n",
       "      <td>80.48</td>\n",
       "      <td>80.48</td>\n",
       "      <td>67.78</td>\n",
       "      <td>67.78</td>\n",
       "      <td>64.74</td>\n",
       "      <td>64.74</td>\n",
       "      <td>87.5</td>\n",
       "      <td>87.5</td>\n",
       "    </tr>\n",
       "  </tbody>\n",
       "</table>\n",
       "<p>3 rows × 49 columns</p>\n",
       "</div>"
      ],
      "text/plain": [
       "         CountryName CountryCode             RegionName RegionCode  \\\n",
       "18102         Brazil         BRA                    NaN        NaN   \n",
       "22488         Canada         CAN  Northwest Territories     CAN_NT   \n",
       "81755  United States         USA                Florida      US_FL   \n",
       "\n",
       "      Jurisdiction       Date  C1_School closing  C1_Flag  \\\n",
       "18102    NAT_TOTAL 2020-07-21                3.0      0.0   \n",
       "22488  STATE_TOTAL 2020-10-19                0.0      NaN   \n",
       "81755  STATE_TOTAL 2020-05-11                3.0      1.0   \n",
       "\n",
       "       C2_Workplace closing  C2_Flag  ...  StringencyIndex  \\\n",
       "18102                   3.0      0.0  ...            81.02   \n",
       "22488                   2.0      1.0  ...            60.19   \n",
       "81755                   3.0      0.0  ...            77.31   \n",
       "\n",
       "       StringencyIndexForDisplay  StringencyLegacyIndex  \\\n",
       "18102                      81.02                  80.48   \n",
       "22488                      60.19                  67.86   \n",
       "81755                      77.31                  80.48   \n",
       "\n",
       "       StringencyLegacyIndexForDisplay  GovernmentResponseIndex  \\\n",
       "18102                            80.48                    72.22   \n",
       "22488                            67.86                    60.56   \n",
       "81755                            80.48                    67.78   \n",
       "\n",
       "       GovernmentResponseIndexForDisplay  ContainmentHealthIndex  \\\n",
       "18102                              72.22                   75.64   \n",
       "22488                              60.56                   58.33   \n",
       "81755                              67.78                   64.74   \n",
       "\n",
       "       ContainmentHealthIndexForDisplay  EconomicSupportIndex  \\\n",
       "18102                             75.64                  50.0   \n",
       "22488                             58.33                  75.0   \n",
       "81755                             64.74                  87.5   \n",
       "\n",
       "       EconomicSupportIndexForDisplay  \n",
       "18102                            50.0  \n",
       "22488                            75.0  \n",
       "81755                            87.5  \n",
       "\n",
       "[3 rows x 49 columns]"
      ]
     },
     "execution_count": 4,
     "metadata": {},
     "output_type": "execute_result"
    }
   ],
   "source": [
    "df.sample(3)"
   ]
  },
  {
   "cell_type": "markdown",
   "metadata": {},
   "source": [
    "### Listing the number of cases and IPs"
   ]
  },
  {
   "cell_type": "code",
   "execution_count": 5,
   "metadata": {},
   "outputs": [],
   "source": [
    "CASES_COLUMNS = [\"CountryName\", \"RegionName\", \"Date\", \"ConfirmedCases\"]"
   ]
  },
  {
   "cell_type": "code",
   "execution_count": 6,
   "metadata": {},
   "outputs": [
    {
     "data": {
      "text/html": [
       "<div>\n",
       "<style scoped>\n",
       "    .dataframe tbody tr th:only-of-type {\n",
       "        vertical-align: middle;\n",
       "    }\n",
       "\n",
       "    .dataframe tbody tr th {\n",
       "        vertical-align: top;\n",
       "    }\n",
       "\n",
       "    .dataframe thead th {\n",
       "        text-align: right;\n",
       "    }\n",
       "</style>\n",
       "<table border=\"1\" class=\"dataframe\">\n",
       "  <thead>\n",
       "    <tr style=\"text-align: right;\">\n",
       "      <th></th>\n",
       "      <th>CountryName</th>\n",
       "      <th>RegionName</th>\n",
       "      <th>Date</th>\n",
       "      <th>ConfirmedCases</th>\n",
       "      <th>C1_School closing</th>\n",
       "      <th>C2_Workplace closing</th>\n",
       "      <th>C3_Cancel public events</th>\n",
       "      <th>C4_Restrictions on gatherings</th>\n",
       "      <th>C5_Close public transport</th>\n",
       "      <th>C6_Stay at home requirements</th>\n",
       "      <th>C7_Restrictions on internal movement</th>\n",
       "      <th>C8_International travel controls</th>\n",
       "      <th>H1_Public information campaigns</th>\n",
       "      <th>H2_Testing policy</th>\n",
       "      <th>H3_Contact tracing</th>\n",
       "      <th>H6_Facial Coverings</th>\n",
       "    </tr>\n",
       "  </thead>\n",
       "  <tbody>\n",
       "    <tr>\n",
       "      <th>52770</th>\n",
       "      <td>Morocco</td>\n",
       "      <td>NaN</td>\n",
       "      <td>2020-05-24</td>\n",
       "      <td>7433.0</td>\n",
       "      <td>3.0</td>\n",
       "      <td>3.0</td>\n",
       "      <td>2.0</td>\n",
       "      <td>3.0</td>\n",
       "      <td>2.0</td>\n",
       "      <td>2.0</td>\n",
       "      <td>2.0</td>\n",
       "      <td>4.0</td>\n",
       "      <td>2.0</td>\n",
       "      <td>2.0</td>\n",
       "      <td>0.0</td>\n",
       "      <td>4.0</td>\n",
       "    </tr>\n",
       "    <tr>\n",
       "      <th>97690</th>\n",
       "      <td>Venezuela</td>\n",
       "      <td>NaN</td>\n",
       "      <td>2020-11-10</td>\n",
       "      <td>95445.0</td>\n",
       "      <td>3.0</td>\n",
       "      <td>3.0</td>\n",
       "      <td>2.0</td>\n",
       "      <td>4.0</td>\n",
       "      <td>1.0</td>\n",
       "      <td>2.0</td>\n",
       "      <td>2.0</td>\n",
       "      <td>4.0</td>\n",
       "      <td>2.0</td>\n",
       "      <td>3.0</td>\n",
       "      <td>0.0</td>\n",
       "      <td>4.0</td>\n",
       "    </tr>\n",
       "    <tr>\n",
       "      <th>98615</th>\n",
       "      <td>Vanuatu</td>\n",
       "      <td>NaN</td>\n",
       "      <td>2020-06-14</td>\n",
       "      <td>0.0</td>\n",
       "      <td>0.0</td>\n",
       "      <td>2.0</td>\n",
       "      <td>2.0</td>\n",
       "      <td>4.0</td>\n",
       "      <td>1.0</td>\n",
       "      <td>1.0</td>\n",
       "      <td>1.0</td>\n",
       "      <td>4.0</td>\n",
       "      <td>2.0</td>\n",
       "      <td>1.0</td>\n",
       "      <td>1.0</td>\n",
       "      <td>0.0</td>\n",
       "    </tr>\n",
       "  </tbody>\n",
       "</table>\n",
       "</div>"
      ],
      "text/plain": [
       "      CountryName RegionName       Date  ConfirmedCases  C1_School closing  \\\n",
       "52770     Morocco        NaN 2020-05-24          7433.0                3.0   \n",
       "97690   Venezuela        NaN 2020-11-10         95445.0                3.0   \n",
       "98615     Vanuatu        NaN 2020-06-14             0.0                0.0   \n",
       "\n",
       "       C2_Workplace closing  C3_Cancel public events  \\\n",
       "52770                   3.0                      2.0   \n",
       "97690                   3.0                      2.0   \n",
       "98615                   2.0                      2.0   \n",
       "\n",
       "       C4_Restrictions on gatherings  C5_Close public transport  \\\n",
       "52770                            3.0                        2.0   \n",
       "97690                            4.0                        1.0   \n",
       "98615                            4.0                        1.0   \n",
       "\n",
       "       C6_Stay at home requirements  C7_Restrictions on internal movement  \\\n",
       "52770                           2.0                                   2.0   \n",
       "97690                           2.0                                   2.0   \n",
       "98615                           1.0                                   1.0   \n",
       "\n",
       "       C8_International travel controls  H1_Public information campaigns  \\\n",
       "52770                               4.0                              2.0   \n",
       "97690                               4.0                              2.0   \n",
       "98615                               4.0                              2.0   \n",
       "\n",
       "       H2_Testing policy  H3_Contact tracing  H6_Facial Coverings  \n",
       "52770                2.0                 0.0                  4.0  \n",
       "97690                3.0                 0.0                  4.0  \n",
       "98615                1.0                 1.0                  0.0  "
      ]
     },
     "execution_count": 6,
     "metadata": {},
     "output_type": "execute_result"
    }
   ],
   "source": [
    "df[CASES_COLUMNS + IP_COLUMNS].sample(3)"
   ]
  },
  {
   "cell_type": "markdown",
   "metadata": {},
   "source": [
    "### Computing the daily change in cases\n",
    "The **ConfirmedCases** column reports the total number of cases since the beginning of the epidemic for each country, region and day. From this number we can compute the daily change in confirmed cases by doing:\n",
    "\n",
    "\\begin{equation*}\n",
    "DailyChangeConfirmedCases_t = ConfirmedCases_t - ConfirmedCases_{t-1}\n",
    "\\end{equation*}\n",
    "\n",
    "Like this:"
   ]
  },
  {
   "cell_type": "code",
   "execution_count": 7,
   "metadata": {},
   "outputs": [],
   "source": [
    "df[\"DailyChangeConfirmedCases\"] = df.groupby([\"CountryName\", \"RegionName\"]).ConfirmedCases.diff().fillna(0)"
   ]
  },
  {
   "cell_type": "markdown",
   "metadata": {},
   "source": [
    "### Listing the latest historical daily new cases for a given country and region\n",
    "For instance, for country **United States**, region **California**, the latest available changes in confirmed cases are:"
   ]
  },
  {
   "cell_type": "code",
   "execution_count": 8,
   "metadata": {},
   "outputs": [
    {
     "data": {
      "text/html": [
       "<div>\n",
       "<style scoped>\n",
       "    .dataframe tbody tr th:only-of-type {\n",
       "        vertical-align: middle;\n",
       "    }\n",
       "\n",
       "    .dataframe tbody tr th {\n",
       "        vertical-align: top;\n",
       "    }\n",
       "\n",
       "    .dataframe thead th {\n",
       "        text-align: right;\n",
       "    }\n",
       "</style>\n",
       "<table border=\"1\" class=\"dataframe\">\n",
       "  <thead>\n",
       "    <tr style=\"text-align: right;\">\n",
       "      <th></th>\n",
       "      <th>CountryName</th>\n",
       "      <th>RegionName</th>\n",
       "      <th>Date</th>\n",
       "      <th>ConfirmedCases</th>\n",
       "      <th>DailyChangeConfirmedCases</th>\n",
       "    </tr>\n",
       "  </thead>\n",
       "  <tbody>\n",
       "    <tr>\n",
       "      <th>80185</th>\n",
       "      <td>United States</td>\n",
       "      <td>California</td>\n",
       "      <td>2020-12-17</td>\n",
       "      <td>1753974.0</td>\n",
       "      <td>45415.0</td>\n",
       "    </tr>\n",
       "    <tr>\n",
       "      <th>80186</th>\n",
       "      <td>United States</td>\n",
       "      <td>California</td>\n",
       "      <td>2020-12-18</td>\n",
       "      <td>1802195.0</td>\n",
       "      <td>48221.0</td>\n",
       "    </tr>\n",
       "    <tr>\n",
       "      <th>80187</th>\n",
       "      <td>United States</td>\n",
       "      <td>California</td>\n",
       "      <td>2020-12-19</td>\n",
       "      <td>1842557.0</td>\n",
       "      <td>40362.0</td>\n",
       "    </tr>\n",
       "    <tr>\n",
       "      <th>80188</th>\n",
       "      <td>United States</td>\n",
       "      <td>California</td>\n",
       "      <td>2020-12-20</td>\n",
       "      <td>1884033.0</td>\n",
       "      <td>41476.0</td>\n",
       "    </tr>\n",
       "    <tr>\n",
       "      <th>80189</th>\n",
       "      <td>United States</td>\n",
       "      <td>California</td>\n",
       "      <td>2020-12-21</td>\n",
       "      <td>1923887.0</td>\n",
       "      <td>39854.0</td>\n",
       "    </tr>\n",
       "    <tr>\n",
       "      <th>80190</th>\n",
       "      <td>United States</td>\n",
       "      <td>California</td>\n",
       "      <td>2020-12-22</td>\n",
       "      <td>NaN</td>\n",
       "      <td>0.0</td>\n",
       "    </tr>\n",
       "    <tr>\n",
       "      <th>80191</th>\n",
       "      <td>United States</td>\n",
       "      <td>California</td>\n",
       "      <td>2020-12-23</td>\n",
       "      <td>NaN</td>\n",
       "      <td>0.0</td>\n",
       "    </tr>\n",
       "  </tbody>\n",
       "</table>\n",
       "</div>"
      ],
      "text/plain": [
       "         CountryName  RegionName       Date  ConfirmedCases  \\\n",
       "80185  United States  California 2020-12-17       1753974.0   \n",
       "80186  United States  California 2020-12-18       1802195.0   \n",
       "80187  United States  California 2020-12-19       1842557.0   \n",
       "80188  United States  California 2020-12-20       1884033.0   \n",
       "80189  United States  California 2020-12-21       1923887.0   \n",
       "80190  United States  California 2020-12-22             NaN   \n",
       "80191  United States  California 2020-12-23             NaN   \n",
       "\n",
       "       DailyChangeConfirmedCases  \n",
       "80185                    45415.0  \n",
       "80186                    48221.0  \n",
       "80187                    40362.0  \n",
       "80188                    41476.0  \n",
       "80189                    39854.0  \n",
       "80190                        0.0  \n",
       "80191                        0.0  "
      ]
     },
     "execution_count": 8,
     "metadata": {},
     "output_type": "execute_result"
    }
   ],
   "source": [
    "country = \"United States\"\n",
    "region = \"California\"\n",
    "country_region_df = df[(df.CountryName == country) & (df.RegionName == region)]\n",
    "country_region_df[[\"CountryName\", \"RegionName\", \"Date\", \"ConfirmedCases\", \"DailyChangeConfirmedCases\"]].tail(7)"
   ]
  },
  {
   "cell_type": "markdown",
   "metadata": {},
   "source": [
    "## Predictor input\n",
    "The goal of a predictor is to predict the expected number of daily cases for countries and regions for a list of days, assumging the given daily IPs have been or will be in place:"
   ]
  },
  {
   "cell_type": "code",
   "execution_count": 9,
   "metadata": {},
   "outputs": [
    {
     "data": {
      "text/html": [
       "<div>\n",
       "<style scoped>\n",
       "    .dataframe tbody tr th:only-of-type {\n",
       "        vertical-align: middle;\n",
       "    }\n",
       "\n",
       "    .dataframe tbody tr th {\n",
       "        vertical-align: top;\n",
       "    }\n",
       "\n",
       "    .dataframe thead th {\n",
       "        text-align: right;\n",
       "    }\n",
       "</style>\n",
       "<table border=\"1\" class=\"dataframe\">\n",
       "  <thead>\n",
       "    <tr style=\"text-align: right;\">\n",
       "      <th></th>\n",
       "      <th>CountryName</th>\n",
       "      <th>RegionName</th>\n",
       "      <th>Date</th>\n",
       "      <th>C1_School closing</th>\n",
       "      <th>C2_Workplace closing</th>\n",
       "      <th>C3_Cancel public events</th>\n",
       "      <th>C4_Restrictions on gatherings</th>\n",
       "      <th>C5_Close public transport</th>\n",
       "      <th>C6_Stay at home requirements</th>\n",
       "      <th>C7_Restrictions on internal movement</th>\n",
       "      <th>C8_International travel controls</th>\n",
       "      <th>H1_Public information campaigns</th>\n",
       "      <th>H2_Testing policy</th>\n",
       "      <th>H3_Contact tracing</th>\n",
       "      <th>H6_Facial Coverings</th>\n",
       "    </tr>\n",
       "  </thead>\n",
       "  <tbody>\n",
       "    <tr>\n",
       "      <th>72605</th>\n",
       "      <td>Zimbabwe</td>\n",
       "      <td>NaN</td>\n",
       "      <td>2020-09-26</td>\n",
       "      <td>2.0</td>\n",
       "      <td>1.0</td>\n",
       "      <td>2.0</td>\n",
       "      <td>3.0</td>\n",
       "      <td>1.0</td>\n",
       "      <td>2.0</td>\n",
       "      <td>2.0</td>\n",
       "      <td>4.0</td>\n",
       "      <td>2.0</td>\n",
       "      <td>1.0</td>\n",
       "      <td>1.0</td>\n",
       "      <td>3.0</td>\n",
       "    </tr>\n",
       "    <tr>\n",
       "      <th>72606</th>\n",
       "      <td>Zimbabwe</td>\n",
       "      <td>NaN</td>\n",
       "      <td>2020-09-27</td>\n",
       "      <td>2.0</td>\n",
       "      <td>1.0</td>\n",
       "      <td>2.0</td>\n",
       "      <td>3.0</td>\n",
       "      <td>1.0</td>\n",
       "      <td>2.0</td>\n",
       "      <td>2.0</td>\n",
       "      <td>4.0</td>\n",
       "      <td>2.0</td>\n",
       "      <td>1.0</td>\n",
       "      <td>1.0</td>\n",
       "      <td>3.0</td>\n",
       "    </tr>\n",
       "    <tr>\n",
       "      <th>72607</th>\n",
       "      <td>Zimbabwe</td>\n",
       "      <td>NaN</td>\n",
       "      <td>2020-09-28</td>\n",
       "      <td>2.0</td>\n",
       "      <td>1.0</td>\n",
       "      <td>2.0</td>\n",
       "      <td>3.0</td>\n",
       "      <td>1.0</td>\n",
       "      <td>2.0</td>\n",
       "      <td>2.0</td>\n",
       "      <td>4.0</td>\n",
       "      <td>2.0</td>\n",
       "      <td>1.0</td>\n",
       "      <td>1.0</td>\n",
       "      <td>3.0</td>\n",
       "    </tr>\n",
       "    <tr>\n",
       "      <th>72608</th>\n",
       "      <td>Zimbabwe</td>\n",
       "      <td>NaN</td>\n",
       "      <td>2020-09-29</td>\n",
       "      <td>2.0</td>\n",
       "      <td>1.0</td>\n",
       "      <td>2.0</td>\n",
       "      <td>3.0</td>\n",
       "      <td>1.0</td>\n",
       "      <td>2.0</td>\n",
       "      <td>2.0</td>\n",
       "      <td>4.0</td>\n",
       "      <td>2.0</td>\n",
       "      <td>1.0</td>\n",
       "      <td>1.0</td>\n",
       "      <td>1.0</td>\n",
       "    </tr>\n",
       "    <tr>\n",
       "      <th>72609</th>\n",
       "      <td>Zimbabwe</td>\n",
       "      <td>NaN</td>\n",
       "      <td>2020-09-30</td>\n",
       "      <td>2.0</td>\n",
       "      <td>1.0</td>\n",
       "      <td>2.0</td>\n",
       "      <td>3.0</td>\n",
       "      <td>1.0</td>\n",
       "      <td>2.0</td>\n",
       "      <td>2.0</td>\n",
       "      <td>4.0</td>\n",
       "      <td>2.0</td>\n",
       "      <td>1.0</td>\n",
       "      <td>1.0</td>\n",
       "      <td>1.0</td>\n",
       "    </tr>\n",
       "  </tbody>\n",
       "</table>\n",
       "</div>"
      ],
      "text/plain": [
       "      CountryName RegionName       Date  C1_School closing  \\\n",
       "72605    Zimbabwe        NaN 2020-09-26                2.0   \n",
       "72606    Zimbabwe        NaN 2020-09-27                2.0   \n",
       "72607    Zimbabwe        NaN 2020-09-28                2.0   \n",
       "72608    Zimbabwe        NaN 2020-09-29                2.0   \n",
       "72609    Zimbabwe        NaN 2020-09-30                2.0   \n",
       "\n",
       "       C2_Workplace closing  C3_Cancel public events  \\\n",
       "72605                   1.0                      2.0   \n",
       "72606                   1.0                      2.0   \n",
       "72607                   1.0                      2.0   \n",
       "72608                   1.0                      2.0   \n",
       "72609                   1.0                      2.0   \n",
       "\n",
       "       C4_Restrictions on gatherings  C5_Close public transport  \\\n",
       "72605                            3.0                        1.0   \n",
       "72606                            3.0                        1.0   \n",
       "72607                            3.0                        1.0   \n",
       "72608                            3.0                        1.0   \n",
       "72609                            3.0                        1.0   \n",
       "\n",
       "       C6_Stay at home requirements  C7_Restrictions on internal movement  \\\n",
       "72605                           2.0                                   2.0   \n",
       "72606                           2.0                                   2.0   \n",
       "72607                           2.0                                   2.0   \n",
       "72608                           2.0                                   2.0   \n",
       "72609                           2.0                                   2.0   \n",
       "\n",
       "       C8_International travel controls  H1_Public information campaigns  \\\n",
       "72605                               4.0                              2.0   \n",
       "72606                               4.0                              2.0   \n",
       "72607                               4.0                              2.0   \n",
       "72608                               4.0                              2.0   \n",
       "72609                               4.0                              2.0   \n",
       "\n",
       "       H2_Testing policy  H3_Contact tracing  H6_Facial Coverings  \n",
       "72605                1.0                 1.0                  3.0  \n",
       "72606                1.0                 1.0                  3.0  \n",
       "72607                1.0                 1.0                  3.0  \n",
       "72608                1.0                 1.0                  1.0  \n",
       "72609                1.0                 1.0                  1.0  "
      ]
     },
     "execution_count": 9,
     "metadata": {},
     "output_type": "execute_result"
    }
   ],
   "source": [
    "EXAMPLE_INPUT_FILE = \"covid_xprize/validation/data/2020-09-30_historical_ip.csv\"\n",
    "prediction_input_df = pd.read_csv(EXAMPLE_INPUT_FILE,\n",
    "                                  parse_dates=['Date'],\n",
    "                                  dtype={\"RegionName\": str},\n",
    "                                  encoding=\"ISO-8859-1\")\n",
    "prediction_input_df.tail()"
   ]
  },
  {
   "cell_type": "code",
   "execution_count": 10,
   "metadata": {},
   "outputs": [
    {
     "data": {
      "text/plain": [
       "Index(['CountryName', 'RegionName', 'Date', 'C1_School closing',\n",
       "       'C2_Workplace closing', 'C3_Cancel public events',\n",
       "       'C4_Restrictions on gatherings', 'C5_Close public transport',\n",
       "       'C6_Stay at home requirements', 'C7_Restrictions on internal movement',\n",
       "       'C8_International travel controls', 'H1_Public information campaigns',\n",
       "       'H2_Testing policy', 'H3_Contact tracing', 'H6_Facial Coverings'],\n",
       "      dtype='object')"
      ]
     },
     "execution_count": 10,
     "metadata": {},
     "output_type": "execute_result"
    }
   ],
   "source": [
    "prediction_input_df.columns"
   ]
  },
  {
   "cell_type": "markdown",
   "metadata": {},
   "source": [
    "## Predictor expected output\n",
    "The output produced by the predictor should look like that:"
   ]
  },
  {
   "cell_type": "code",
   "execution_count": 11,
   "metadata": {},
   "outputs": [
    {
     "data": {
      "text/html": [
       "<div>\n",
       "<style scoped>\n",
       "    .dataframe tbody tr th:only-of-type {\n",
       "        vertical-align: middle;\n",
       "    }\n",
       "\n",
       "    .dataframe tbody tr th {\n",
       "        vertical-align: top;\n",
       "    }\n",
       "\n",
       "    .dataframe thead th {\n",
       "        text-align: right;\n",
       "    }\n",
       "</style>\n",
       "<table border=\"1\" class=\"dataframe\">\n",
       "  <thead>\n",
       "    <tr style=\"text-align: right;\">\n",
       "      <th></th>\n",
       "      <th>CountryName</th>\n",
       "      <th>RegionName</th>\n",
       "      <th>Date</th>\n",
       "      <th>PredictedDailyNewCases</th>\n",
       "      <th>IsSpecialty</th>\n",
       "    </tr>\n",
       "  </thead>\n",
       "  <tbody>\n",
       "    <tr>\n",
       "      <th>0</th>\n",
       "      <td>Aruba</td>\n",
       "      <td>NaN</td>\n",
       "      <td>2020-08-01</td>\n",
       "      <td>0.820071</td>\n",
       "      <td>0</td>\n",
       "    </tr>\n",
       "    <tr>\n",
       "      <th>1</th>\n",
       "      <td>Aruba</td>\n",
       "      <td>NaN</td>\n",
       "      <td>2020-08-02</td>\n",
       "      <td>0.872854</td>\n",
       "      <td>0</td>\n",
       "    </tr>\n",
       "    <tr>\n",
       "      <th>2</th>\n",
       "      <td>Aruba</td>\n",
       "      <td>NaN</td>\n",
       "      <td>2020-08-03</td>\n",
       "      <td>0.000000</td>\n",
       "      <td>0</td>\n",
       "    </tr>\n",
       "    <tr>\n",
       "      <th>3</th>\n",
       "      <td>Aruba</td>\n",
       "      <td>NaN</td>\n",
       "      <td>2020-08-04</td>\n",
       "      <td>0.000000</td>\n",
       "      <td>0</td>\n",
       "    </tr>\n",
       "    <tr>\n",
       "      <th>4</th>\n",
       "      <td>Afghanistan</td>\n",
       "      <td>NaN</td>\n",
       "      <td>2020-08-01</td>\n",
       "      <td>80.590128</td>\n",
       "      <td>0</td>\n",
       "    </tr>\n",
       "  </tbody>\n",
       "</table>\n",
       "</div>"
      ],
      "text/plain": [
       "   CountryName RegionName       Date  PredictedDailyNewCases  IsSpecialty\n",
       "0        Aruba        NaN 2020-08-01                0.820071            0\n",
       "1        Aruba        NaN 2020-08-02                0.872854            0\n",
       "2        Aruba        NaN 2020-08-03                0.000000            0\n",
       "3        Aruba        NaN 2020-08-04                0.000000            0\n",
       "4  Afghanistan        NaN 2020-08-01               80.590128            0"
      ]
     },
     "execution_count": 11,
     "metadata": {},
     "output_type": "execute_result"
    }
   ],
   "source": [
    "EXAMPLE_OUTPUT_FILE = \"2020-08-01_2020-08-04_predictions_example.csv\"\n",
    "prediction_output_df = pd.read_csv(EXAMPLE_OUTPUT_FILE,\n",
    "                                   parse_dates=['Date'],\n",
    "                                   encoding=\"ISO-8859-1\")\n",
    "prediction_output_df.head()"
   ]
  },
  {
   "cell_type": "markdown",
   "metadata": {},
   "source": [
    "### Specialty regions\n",
    "In this output file example, Portugal and Spain have been marked as 'specialty' regions\n",
    "by turning the flag to 1 in the optional 'IsSpecialty' column:"
   ]
  },
  {
   "cell_type": "code",
   "execution_count": null,
   "metadata": {},
   "outputs": [],
   "source": [
    "prediction_output_df[prediction_output_df.IsSpecialty == 1]"
   ]
  },
  {
   "cell_type": "markdown",
   "metadata": {},
   "source": [
    "## Train a model\n",
    "Train a predictor model that can produce the output file given the input file.\n",
    "\n",
    "Use additional data sources if needed.\n",
    "\n",
    "Predictors have to predict for all requested regions. Note that a predictor submission can consist of multiple models, for example those specializing in different regions, that are accessed through a __single__ `predict.py` call. A predictor must return a prediction in less than 1 hour for up to 180 days of prediction for up to 300 regions."
   ]
  },
  {
   "cell_type": "code",
   "execution_count": null,
   "metadata": {},
   "outputs": [],
   "source": [
    "# WRITE YOUR CODE HERE"
   ]
  },
  {
   "cell_type": "code",
   "execution_count": null,
   "metadata": {},
   "outputs": [],
   "source": [
    "# It's a good idea to save the trained model so it can be used to make predictions in the future"
   ]
  },
  {
   "cell_type": "code",
   "execution_count": null,
   "metadata": {},
   "outputs": [],
   "source": [
    "# For examples, check out the covid_xprize/examples/predictors folder:\n",
    "# - covid_xprize/examples/predictors/linear/Example-Train-Linear-Rollout-Model.ipynb\n",
    "# - covid_xprize/examples/predictors/lstm/Example-LSTM-Predictor.ipynb"
   ]
  },
  {
   "cell_type": "markdown",
   "metadata": {},
   "source": [
    "## Make predictions\n",
    "Making predictions means saving a .csv file to the path specified in `output_file_path`.\n",
    "\n"
   ]
  },
  {
   "cell_type": "code",
   "execution_count": null,
   "metadata": {},
   "outputs": [],
   "source": [
    "def predict(start_date: str,\n",
    "            end_date: str,\n",
    "            path_to_ips_file: str,\n",
    "            output_file_path) -> None:\n",
    "    \"\"\"\n",
    "    Generates and saves a file with daily new cases predictions for the given countries, regions and intervention\n",
    "    plans, between start_date and end_date, included.\n",
    "    :param start_date: day from which to start making predictions, as a string, format YYYY-MM-DDD\n",
    "    :param end_date: day on which to stop making predictions, as a string, format YYYY-MM-DDD\n",
    "    :param path_to_ips_file: path to a csv file containing the intervention plans between inception date (Jan 1 2020)\n",
    "     and end_date, for the countries and regions for which a prediction is needed\n",
    "    :param output_file_path: path to file to save the predictions to\n",
    "    :return: Nothing. Saves the generated predictions to an output_file_path CSV file\n",
    "    with columns \"CountryName,RegionName,Date,PredictedDailyNewCases\"\n",
    "    \"\"\"\n",
    "    # !!! YOUR CODE HERE !!!\n",
    "    raise NotImplementedError"
   ]
  },
  {
   "cell_type": "code",
   "execution_count": null,
   "metadata": {},
   "outputs": [],
   "source": [
    "start_date = \"2020-08-01\"\n",
    "end_date = \"2020-08-04\"\n",
    "output_file = \"my_first_predictions.csv\"\n",
    "predict(start_date, end_date, EXAMPLE_INPUT_FILE, output_file)"
   ]
  },
  {
   "cell_type": "markdown",
   "metadata": {},
   "source": [
    "## Display predictions\n",
    "If prediction worked ok, it generated the `output_file` file, that we can read like that:"
   ]
  },
  {
   "cell_type": "code",
   "execution_count": 1,
   "metadata": {},
   "outputs": [
    {
     "ename": "NameError",
     "evalue": "name 'pd' is not defined",
     "output_type": "error",
     "traceback": [
      "\u001b[0;31m---------------------------------------------------------------------------\u001b[0m",
      "\u001b[0;31mNameError\u001b[0m                                 Traceback (most recent call last)",
      "\u001b[0;32m<ipython-input-1-1c3317a154f0>\u001b[0m in \u001b[0;36m<module>\u001b[0;34m\u001b[0m\n\u001b[0;32m----> 1\u001b[0;31m prediction_output_df = pd.read_csv(output_file,\n\u001b[0m\u001b[1;32m      2\u001b[0m                                    \u001b[0mparse_dates\u001b[0m\u001b[0;34m=\u001b[0m\u001b[0;34m[\u001b[0m\u001b[0;34m'Date'\u001b[0m\u001b[0;34m]\u001b[0m\u001b[0;34m,\u001b[0m\u001b[0;34m\u001b[0m\u001b[0;34m\u001b[0m\u001b[0m\n\u001b[1;32m      3\u001b[0m                                    encoding=\"ISO-8859-1\")\n\u001b[1;32m      4\u001b[0m \u001b[0mprediction_output_df\u001b[0m\u001b[0;34m.\u001b[0m\u001b[0mhead\u001b[0m\u001b[0;34m(\u001b[0m\u001b[0;34m)\u001b[0m\u001b[0;34m\u001b[0m\u001b[0;34m\u001b[0m\u001b[0m\n",
      "\u001b[0;31mNameError\u001b[0m: name 'pd' is not defined"
     ]
    }
   ],
   "source": [
    "prediction_output_df = pd.read_csv(output_file,\n",
    "                                   parse_dates=['Date'],\n",
    "                                   encoding=\"ISO-8859-1\")\n",
    "prediction_output_df.head()"
   ]
  },
  {
   "cell_type": "markdown",
   "metadata": {},
   "source": [
    "# Submission\n",
    "Update `predict.py` to call the trained predictor and generate a predictor file."
   ]
  },
  {
   "cell_type": "markdown",
   "metadata": {},
   "source": [
    "# Validation\n",
    "This is how the predictor is going to be called during the competition.  \n",
    "!!! PLEASE DO NOT CHANGE THE API !!!"
   ]
  },
  {
   "cell_type": "code",
   "execution_count": null,
   "metadata": {},
   "outputs": [],
   "source": [
    "rize/validation/data/2020-09-30_his!python predict.py -s 2020-08-01 -e 2020-08-04 -ip covid_xptorical_ip.csv -o predictions/2020-08-01_2020-08-04.csv"
   ]
  },
  {
   "cell_type": "code",
   "execution_count": null,
   "metadata": {},
   "outputs": [],
   "source": [
    "!head predictions/2020-08-01_2020-08-04.csv"
   ]
  },
  {
   "cell_type": "markdown",
   "metadata": {},
   "source": [
    "# Test cases\n",
    "We can generate a prediction file. Let's validate a few cases..."
   ]
  },
  {
   "cell_type": "code",
   "execution_count": null,
   "metadata": {},
   "outputs": [],
   "source": [
    "# Check the pediction file is valid\n",
    "import os\n",
    "from covid_xprize.validation.predictor_validation import validate_submission\n",
    "\n",
    "def validate(start_date, end_date, ip_file, output_file):\n",
    "    # First, delete any potential old file\n",
    "    try:\n",
    "        os.remove(output_file)\n",
    "    except OSError:\n",
    "        pass\n",
    "    \n",
    "    # Then generate the prediction, calling the official API\n",
    "    !python predict.py -s {start_date} -e {end_date} -ip {ip_file} -o {output_file}\n",
    "    \n",
    "    # And validate it\n",
    "    errors = validate_submission(start_date, end_date, ip_file, output_file)\n",
    "    if errors:\n",
    "        for error in errors:\n",
    "            print(error)\n",
    "    else:\n",
    "        print(\"All good!\")"
   ]
  },
  {
   "cell_type": "markdown",
   "metadata": {},
   "source": [
    "## 4 days, no gap\n",
    "- All countries and regions\n",
    "- Official number of cases is known up to start_date\n",
    "- Intervention Plans are the official ones"
   ]
  },
  {
   "cell_type": "code",
   "execution_count": null,
   "metadata": {},
   "outputs": [],
   "source": [
    "validate(start_date=\"2020-08-01\",\n",
    "         end_date=\"2020-08-04\",\n",
    "         ip_file=\"covid_xprize/validation/data/2020-09-30_historical_ip.csv\",\n",
    "         output_file=\"predictions/val_4_days.csv\")"
   ]
  },
  {
   "cell_type": "markdown",
   "metadata": {},
   "source": [
    "## 1 month in the future\n",
    "- 2 countries only\n",
    "- there's a gap between date of last known number of cases and start_date\n",
    "- For future dates, Intervention Plans contains scenarios for which predictions are requested to answer the question: what will happen if we apply these plans?"
   ]
  },
  {
   "cell_type": "code",
   "execution_count": null,
   "metadata": {},
   "outputs": [],
   "source": [
    "%%time\n",
    "validate(start_date=\"2021-01-01\",\n",
    "         end_date=\"2021-01-31\",\n",
    "         ip_file=\"covid_xprize/validation/data/future_ip.csv\",\n",
    "         output_file=\"predictions/val_1_month_future.csv\")"
   ]
  },
  {
   "cell_type": "markdown",
   "metadata": {},
   "source": [
    "## 180 days, from a future date, all countries and regions\n",
    "- Prediction start date is 1 week from now. (i.e. assuming submission date is 1 week from now)  \n",
    "- Prediction end date is 6 months after start date.  \n",
    "- Prediction is requested for all available countries and regions.  \n",
    "- Intervention plan scenario: freeze last known intervention plans for each country and region.  \n",
    "\n",
    "As the number of cases is not known yet between today and start date, but the model relies on them, the model has to predict them in order to use them.  \n",
    "This test is the most demanding test. It should take less than 1 hour to generate the prediction file."
   ]
  },
  {
   "cell_type": "markdown",
   "metadata": {},
   "source": [
    "### Generate the scenario"
   ]
  },
  {
   "cell_type": "code",
   "execution_count": null,
   "metadata": {},
   "outputs": [],
   "source": [
    "from datetime import datetime, timedelta\n",
    "\n",
    "start_date = datetime.now() + timedelta(days=7)\n",
    "start_date_str = start_date.strftime('%Y-%m-%d')\n",
    "end_date = start_date + timedelta(days=180)\n",
    "end_date_str = end_date.strftime('%Y-%m-%d')\n",
    "print(f\"Start date: {start_date_str}\")\n",
    "print(f\"End date: {end_date_str}\")"
   ]
  },
  {
   "cell_type": "code",
   "execution_count": null,
   "metadata": {},
   "outputs": [],
   "source": [
    "import os\n",
    "from covid_xprize.validation.scenario_generator import get_raw_data, generate_scenario, NPI_COLUMNS\n",
    "DATA_FILE = \"covid_xprize/validation/tests/fixtures/OxCGRT_latest.csv\"\n",
    "latest_df = get_raw_data(DATA_FILE, latest=True)\n",
    "scenario_df = generate_scenario(start_date_str, end_date_str, latest_df, countries=None, scenario=\"Freeze\")\n",
    "scenario_file = \"predictions/180_days_future_scenario.csv\"\n",
    "os.makedirs(os.path.dirname(scenario_file), exist_ok=True)\n",
    "scenario_df.to_csv(scenario_file, index=False)\n",
    "print(f\"Saved scenario to {scenario_file}\")"
   ]
  },
  {
   "cell_type": "markdown",
   "metadata": {},
   "source": [
    "### Check it"
   ]
  },
  {
   "cell_type": "code",
   "execution_count": null,
   "metadata": {},
   "outputs": [],
   "source": [
    "%%time\n",
    "validate(start_date=start_date_str,\n",
    "         end_date=end_date_str,\n",
    "         ip_file=scenario_file,\n",
    "         output_file=\"predictions/val_6_month_future.csv\")"
   ]
  }
 ],
 "metadata": {
  "kernelspec": {
   "display_name": "Python 3",
   "language": "python",
   "name": "python3"
  },
  "language_info": {
   "codemirror_mode": {
    "name": "ipython",
    "version": 3
   },
   "file_extension": ".py",
   "mimetype": "text/x-python",
   "name": "python",
   "nbconvert_exporter": "python",
   "pygments_lexer": "ipython3",
   "version": "3.8.3"
  },
  "pycharm": {
   "stem_cell": {
    "cell_type": "raw",
    "metadata": {
     "collapsed": false
    },
    "source": [
     "# Copyright 2020 (c) Cognizant Digital Business, Evolutionary AI. All rights reserved. Issued under the Apache 2.0 License."
    ]
   }
  }
 },
 "nbformat": 4,
 "nbformat_minor": 4
}
