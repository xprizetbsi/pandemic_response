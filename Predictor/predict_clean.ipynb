{
 "cells": [
  {
   "cell_type": "code",
   "execution_count": 12,
   "metadata": {},
   "outputs": [],
   "source": [
    "%load_ext autoreload\n",
    "%autoreload 2\n",
    "\n",
    "import pickle\n",
    "import numpy as np\n",
    "import pandas as pd\n",
    "from sklearn.linear_model import Lasso\n",
    "from sklearn.model_selection import train_test_split\n",
    "from datetime import datetime, timedelta\n",
    "\n",
    "\n",
    "\n",
    "# Main source for the training data\n",
    "DATA_URL = 'https://raw.githubusercontent.com/OxCGRT/covid-policy-tracker/master/data/OxCGRT_latest.csv'\n",
    "# Local file\n",
    "DATA_FILE = 'data/OxCGRT_latest.csv'\n",
    "#Demographics File\n",
    "DEMOGRAPHICS_FILE = 'data/Country_Demographics.csv'\n",
    "DEMOGRAPHICS_BRZ_R_FILE = 'data/brz_region_demo.csv'\n",
    "\n",
    "# Load historical data from local file\n",
    "df = pd.read_csv(DATA_FILE, \n",
    "                 parse_dates=['Date'],\n",
    "                 encoding=\"ISO-8859-1\",\n",
    "                 dtype={\"RegionName\": str,\n",
    "                        \"RegionCode\": str},\n",
    "                 error_bad_lines=False)\n",
    "\n",
    "#Data from Worldometers - https://www.worldometers.info/world-population/population-by-country/\n",
    "demographics = pd.read_csv(DEMOGRAPHICS_FILE,\n",
    "                 sep = ';',\n",
    "                 encoding=\"ISO-8859-1\",\n",
    "                 dtype={\"Country\": str,\n",
    "                        \"Population\": int},\n",
    "                 error_bad_lines=False)\n",
    "\n",
    "\n",
    "#variable to iterate on top for each country\n",
    "country = (\"Aruba,Afghanistan,Angola,Albania,Andorra,\\\n",
    "                United Arab Emirates,Argentina,Australia,Austria,\\\n",
    "                Azerbaijan,Burundi,Belgium,Benin,Burkina Faso,Bangladesh,\\\n",
    "                Bulgaria,Bahrain,Bahamas,Bosnia and Herzegovina,Belarus,\\\n",
    "                Belize,Bermuda,Bolivia,Brazil,Barbados,Brunei,Bhutan,\\\n",
    "                Botswana,Central African Republic,Canada,Switzerland,\\\n",
    "                Chile,China,Cote d'Ivoire,Cameroon,Democratic Republic of Congo,\\\n",
    "                Congo,Colombia,Comoros,Cape Verde,Costa Rica,Cuba,Cyprus,Czech Republic,\\\n",
    "                Germany,Djibouti,Dominica,Denmark,Dominican Republic,Algeria,Ecuador,Egypt,\\\n",
    "                Eritrea,Spain,Estonia,Ethiopia,Finland,Fiji,France,Faeroe Islands,\\\n",
    "                Gabon,United Kingdom,Georgia,Ghana,Guinea,Gambia,Greece,Greenland,\\\n",
    "                Guatemala,Guam,Guyana,Hong Kong,Honduras,Croatia,Haiti,Hungary,Indonesia,\\\n",
    "                India,Ireland,Iran,Iraq,Iceland,Israel,Italy,Jamaica,Jordan,Japan,Kazakhstan,\\\n",
    "                Kenya,Kyrgyz Republic,Cambodia,South Korea,Kuwait,Laos,Lebanon,Liberia,Libya,\\\n",
    "                Sri Lanka,Lesotho,Lithuania,Luxembourg,Latvia,Macao,Morocco,Monaco,Moldova,\\\n",
    "                Madagascar,Mexico,Mali,Malta,Myanmar,Mongolia,Mozambique,Mauritania,Mauritius,\\\n",
    "                Malawi,Malaysia,Namibia,Niger,Nigeria,Nicaragua,Netherlands,Norway,Nepal,New Zealand,\\\n",
    "                Oman,Pakistan,Panama,Peru,Philippines,Papua New Guinea,Poland,Puerto Rico,Portugal,\\\n",
    "                Paraguay,Palestine,Qatar,Kosovo,Romania,Russia,Rwanda,Saudi Arabia,Sudan,Senegal,\\\n",
    "                Singapore,Solomon Islands,Sierra Leone,El Salvador,San Marino,Somalia,Serbia,\\\n",
    "                South Sudan,Suriname,Slovak Republic,Slovenia,Sweden,Eswatini,Seychelles,Syria,\\\n",
    "                Chad,Togo,Thailand,Tajikistan,Turkmenistan,Timor-Leste,Tonga,Trinidad and Tobago,\\\n",
    "                Tunisia,Turkey,Taiwan,Tanzania,Uganda,Ukraine,Uruguay,United States,Uzbekistan,\\\n",
    "                Venezuela,United States Virgin Islands,Vietnam,Vanuatu,Yemen,South Africa,Zambia,Zimbabwe\")"
   ]
  },
  {
   "cell_type": "code",
   "execution_count": 13,
   "metadata": {},
   "outputs": [],
   "source": [
    "df.set_index('CountryName').filter(like='Italy',axis=0) \n",
    "df=demographics.join(df.set_index('CountryName'),on='Country',how='inner',lsuffix='Country',rsuffix='CountryName')\n",
    " "
   ]
  },
  {
   "cell_type": "code",
   "execution_count": 39,
   "metadata": {},
   "outputs": [],
   "source": [
    "CASES_COLUMNS = [\"Country\", \"Population\", \"RegionName\", \"Date\", \"ConfirmedCases\", \"ConfirmedDeaths\"]\n",
    "\n",
    "\n",
    "italy_data = df.query('Country == \"Italy\" \\\n",
    "                         & ConfirmedCases!=\"\"\\\n",
    "                         & ConfirmedCases!=\"0\"\\\n",
    "                         & ConfirmedCases!=\"NaN\"')[CASES_COLUMNS]\n",
    " "
   ]
  },
  {
   "cell_type": "markdown",
   "metadata": {},
   "source": [
    "### add time series\n",
    "s = S/N , i = I/N, r = R/N\n",
    "s+i+r = 1\n",
    "I+R = ConfirmedCases + ConfirmedDeaths"
   ]
  },
  {
   "cell_type": "code",
   "execution_count": 262,
   "metadata": {},
   "outputs": [
    {
     "name": "stdout",
     "output_type": "stream",
     "text": [
      "3.307872309380798e-08\n"
     ]
    }
   ],
   "source": [
    "# s = N-confirmedCases (assume population ins constant)\n",
    "# need to check whether death needs to be removed\n",
    "italy_data['s']=(italy_data['Population']-italy_data['ConfirmedCases'])/italy_data['Population']\n",
    "#susceptible_list = italy_data['Population']-italy_data['ConfirmedCases']\n",
    "#italy_data.loc[:,'Susceptible'] = pd.Series(susceptible_list, index=italy_data.index)\n",
    "italy_data['NewInfected']= italy_data['ConfirmedCases'].diff()\n",
    "italy_data['i'] =italy_data['ConfirmedCases']/italy_data['Population']\n",
    "\n",
    "italy = np.zeros([italy_data.shape[0],2])\n",
    "italy[0:,0] = np.arange(0,italy_data.shape[0]).astype(int)\n",
    "italy[0:,1] = italy_data[\"i\"]\n",
    "print(np.min(italy[5:,1]))\n",
    "np.savetxt(\"data/italy.csv\", italy, delimiter=\",\")"
   ]
  },
  {
   "cell_type": "code",
   "execution_count": 263,
   "metadata": {},
   "outputs": [
    {
     "data": {
      "text/html": [
       "<div>\n",
       "<style scoped>\n",
       "    .dataframe tbody tr th:only-of-type {\n",
       "        vertical-align: middle;\n",
       "    }\n",
       "\n",
       "    .dataframe tbody tr th {\n",
       "        vertical-align: top;\n",
       "    }\n",
       "\n",
       "    .dataframe thead th {\n",
       "        text-align: right;\n",
       "    }\n",
       "</style>\n",
       "<table border=\"1\" class=\"dataframe\">\n",
       "  <thead>\n",
       "    <tr style=\"text-align: right;\">\n",
       "      <th></th>\n",
       "      <th>Country</th>\n",
       "      <th>Population</th>\n",
       "      <th>RegionName</th>\n",
       "      <th>Date</th>\n",
       "      <th>ConfirmedCases</th>\n",
       "      <th>ConfirmedDeaths</th>\n",
       "      <th>s</th>\n",
       "      <th>NewInfected</th>\n",
       "      <th>i</th>\n",
       "    </tr>\n",
       "  </thead>\n",
       "  <tbody>\n",
       "    <tr>\n",
       "      <th>22</th>\n",
       "      <td>Italy</td>\n",
       "      <td>60461826</td>\n",
       "      <td>NaN</td>\n",
       "      <td>2020-01-31</td>\n",
       "      <td>2.0</td>\n",
       "      <td>0.0</td>\n",
       "      <td>1.000000</td>\n",
       "      <td>NaN</td>\n",
       "      <td>3.307872e-08</td>\n",
       "    </tr>\n",
       "    <tr>\n",
       "      <th>22</th>\n",
       "      <td>Italy</td>\n",
       "      <td>60461826</td>\n",
       "      <td>NaN</td>\n",
       "      <td>2020-02-01</td>\n",
       "      <td>2.0</td>\n",
       "      <td>0.0</td>\n",
       "      <td>1.000000</td>\n",
       "      <td>0.0</td>\n",
       "      <td>3.307872e-08</td>\n",
       "    </tr>\n",
       "    <tr>\n",
       "      <th>22</th>\n",
       "      <td>Italy</td>\n",
       "      <td>60461826</td>\n",
       "      <td>NaN</td>\n",
       "      <td>2020-02-02</td>\n",
       "      <td>2.0</td>\n",
       "      <td>0.0</td>\n",
       "      <td>1.000000</td>\n",
       "      <td>0.0</td>\n",
       "      <td>3.307872e-08</td>\n",
       "    </tr>\n",
       "    <tr>\n",
       "      <th>22</th>\n",
       "      <td>Italy</td>\n",
       "      <td>60461826</td>\n",
       "      <td>NaN</td>\n",
       "      <td>2020-02-03</td>\n",
       "      <td>2.0</td>\n",
       "      <td>0.0</td>\n",
       "      <td>1.000000</td>\n",
       "      <td>0.0</td>\n",
       "      <td>3.307872e-08</td>\n",
       "    </tr>\n",
       "    <tr>\n",
       "      <th>22</th>\n",
       "      <td>Italy</td>\n",
       "      <td>60461826</td>\n",
       "      <td>NaN</td>\n",
       "      <td>2020-02-04</td>\n",
       "      <td>2.0</td>\n",
       "      <td>0.0</td>\n",
       "      <td>1.000000</td>\n",
       "      <td>0.0</td>\n",
       "      <td>3.307872e-08</td>\n",
       "    </tr>\n",
       "    <tr>\n",
       "      <th>...</th>\n",
       "      <td>...</td>\n",
       "      <td>...</td>\n",
       "      <td>...</td>\n",
       "      <td>...</td>\n",
       "      <td>...</td>\n",
       "      <td>...</td>\n",
       "      <td>...</td>\n",
       "      <td>...</td>\n",
       "      <td>...</td>\n",
       "    </tr>\n",
       "    <tr>\n",
       "      <th>22</th>\n",
       "      <td>Italy</td>\n",
       "      <td>60461826</td>\n",
       "      <td>NaN</td>\n",
       "      <td>2020-12-23</td>\n",
       "      <td>1991278.0</td>\n",
       "      <td>70395.0</td>\n",
       "      <td>0.967066</td>\n",
       "      <td>13908.0</td>\n",
       "      <td>3.293447e-02</td>\n",
       "    </tr>\n",
       "    <tr>\n",
       "      <th>22</th>\n",
       "      <td>Italy</td>\n",
       "      <td>60461826</td>\n",
       "      <td>NaN</td>\n",
       "      <td>2020-12-24</td>\n",
       "      <td>2009317.0</td>\n",
       "      <td>70900.0</td>\n",
       "      <td>0.966767</td>\n",
       "      <td>18039.0</td>\n",
       "      <td>3.323282e-02</td>\n",
       "    </tr>\n",
       "    <tr>\n",
       "      <th>22</th>\n",
       "      <td>Italy</td>\n",
       "      <td>60461826</td>\n",
       "      <td>NaN</td>\n",
       "      <td>2020-12-25</td>\n",
       "      <td>2028354.0</td>\n",
       "      <td>71359.0</td>\n",
       "      <td>0.966452</td>\n",
       "      <td>19037.0</td>\n",
       "      <td>3.354768e-02</td>\n",
       "    </tr>\n",
       "    <tr>\n",
       "      <th>22</th>\n",
       "      <td>Italy</td>\n",
       "      <td>60461826</td>\n",
       "      <td>NaN</td>\n",
       "      <td>2020-12-26</td>\n",
       "      <td>2038759.0</td>\n",
       "      <td>71620.0</td>\n",
       "      <td>0.966280</td>\n",
       "      <td>10405.0</td>\n",
       "      <td>3.371977e-02</td>\n",
       "    </tr>\n",
       "    <tr>\n",
       "      <th>22</th>\n",
       "      <td>Italy</td>\n",
       "      <td>60461826</td>\n",
       "      <td>NaN</td>\n",
       "      <td>2020-12-27</td>\n",
       "      <td>2047696.0</td>\n",
       "      <td>71925.0</td>\n",
       "      <td>0.966132</td>\n",
       "      <td>8937.0</td>\n",
       "      <td>3.386758e-02</td>\n",
       "    </tr>\n",
       "  </tbody>\n",
       "</table>\n",
       "<p>332 rows × 9 columns</p>\n",
       "</div>"
      ],
      "text/plain": [
       "   Country  Population RegionName       Date  ConfirmedCases  ConfirmedDeaths  \\\n",
       "22   Italy    60461826        NaN 2020-01-31             2.0              0.0   \n",
       "22   Italy    60461826        NaN 2020-02-01             2.0              0.0   \n",
       "22   Italy    60461826        NaN 2020-02-02             2.0              0.0   \n",
       "22   Italy    60461826        NaN 2020-02-03             2.0              0.0   \n",
       "22   Italy    60461826        NaN 2020-02-04             2.0              0.0   \n",
       "..     ...         ...        ...        ...             ...              ...   \n",
       "22   Italy    60461826        NaN 2020-12-23       1991278.0          70395.0   \n",
       "22   Italy    60461826        NaN 2020-12-24       2009317.0          70900.0   \n",
       "22   Italy    60461826        NaN 2020-12-25       2028354.0          71359.0   \n",
       "22   Italy    60461826        NaN 2020-12-26       2038759.0          71620.0   \n",
       "22   Italy    60461826        NaN 2020-12-27       2047696.0          71925.0   \n",
       "\n",
       "           s  NewInfected             i  \n",
       "22  1.000000          NaN  3.307872e-08  \n",
       "22  1.000000          0.0  3.307872e-08  \n",
       "22  1.000000          0.0  3.307872e-08  \n",
       "22  1.000000          0.0  3.307872e-08  \n",
       "22  1.000000          0.0  3.307872e-08  \n",
       "..       ...          ...           ...  \n",
       "22  0.967066      13908.0  3.293447e-02  \n",
       "22  0.966767      18039.0  3.323282e-02  \n",
       "22  0.966452      19037.0  3.354768e-02  \n",
       "22  0.966280      10405.0  3.371977e-02  \n",
       "22  0.966132       8937.0  3.386758e-02  \n",
       "\n",
       "[332 rows x 9 columns]"
      ]
     },
     "metadata": {},
     "output_type": "display_data"
    },
    {
     "data": {
      "text/plain": [
       "332"
      ]
     },
     "execution_count": 263,
     "metadata": {},
     "output_type": "execute_result"
    }
   ],
   "source": [
    "display(italy_data) \n",
    "len(italy_data)"
   ]
  },
  {
   "cell_type": "code",
   "execution_count": 467,
   "metadata": {},
   "outputs": [
    {
     "name": "stdout",
     "output_type": "stream",
     "text": [
      "initialize BaseSIR\n",
      "call SIR.fit\n",
      "alpha: 0.015\n",
      "n epochs 332 refit True\n",
      "intialize particle filter\n",
      "initialize SIR\n",
      "ParticleSIR initialized\n"
     ]
    }
   ],
   "source": [
    "# import SIR, ParticleSIR classes from models.py\n",
    "from models import *\n",
    "\n",
    "#Model Parameters\n",
    "num_particles = 100#50\n",
    "ens = num_particles\n",
    "year = '2019-20'\n",
    "file = 'italy' #CDC filename\n",
    "path = 'Particle_Filter'\n",
    "\n",
    "#date = np.array(['1','2'])\n",
    "#date[0] = '2020-08-01'\n",
    "#date[1] = '2020-08-04'\n",
    "#path = '%s_%s_predictions_example' % (date[0],date[1])\n",
    "\n",
    "#Set parameters  \n",
    "params = {} #read_params('./data/params/params2019-20.csv')\n",
    "params['alpha'] =  0.015#.35 # beta\n",
    "params['beta'] =  0.035 #035  # gamma\n",
    "params['CDC'] = f'./data/{file}.csv'\n",
    "params['filtering'] =True\n",
    "params['time_varying'] =True\n",
    "dat = get_data(params['CDC'])\n",
    "params['epochs'] = dat.shape[0] #+ date_diff#   \n",
    "params['init_i'] = dat[0]\n",
    "#Created to flexibilize the amount of days\n",
    "\n",
    "\n",
    "sir = ParticleSIR(num_particles, params)"
   ]
  },
  {
   "cell_type": "code",
   "execution_count": 471,
   "metadata": {},
   "outputs": [
    {
     "name": "stdout",
     "output_type": "stream",
     "text": [
      "332\n",
      "./data/italy.csv\n",
      "{'CORR': -0.32540271729034703,\n",
      " 'MSPE': 0.5176217525187046,\n",
      " 'RMSE': 0.010880919737495973,\n",
      " 'SSE': 0.03930694555883138}\n"
     ]
    },
    {
     "data": {
      "text/plain": [
       "[<matplotlib.lines.Line2D at 0x7fe863496ad0>]"
      ]
     },
     "execution_count": 471,
     "metadata": {},
     "output_type": "execute_result"
    },
    {
     "data": {
      "image/png": "[encoded data removed]",
      "text/plain": [
       "<Figure size 432x288 with 1 Axes>"
      ]
     },
     "metadata": {
      "needs_background": "light"
     },
     "output_type": "display_data"
    }
   ],
   "source": [
    "print(dat.shape[0])\n",
    "print(params['CDC'])\n",
    "sir.predict_with_filter(params)\n",
    "\n",
    "#out_str = ','.join(map(str, sir.IS))\n",
    "pprint(sir.scores)\n",
    "\n",
    "#display(dat.shape)\n",
    "#write_file(path, year, sir, out_str)\n",
    "\n",
    "import matplotlib.pyplot as plt\n",
    "\n",
    "x =   np.arange(0,len(sir.Is))\n",
    "y = sir.IS\n",
    "y_true =sir.CDC_obs\n",
    "\n",
    "plt.plot(x,  y, '.-', color='black');\n",
    "\n",
    "plt.plot(x,y_true, '.-',color='blue')"
   ]
  },
  {
   "cell_type": "code",
   "execution_count": 472,
   "metadata": {},
   "outputs": [
    {
     "name": "stdout",
     "output_type": "stream",
     "text": [
      "0.0016264682709108541\n",
      "0.0071231911616151545\n"
     ]
    },
    {
     "data": {
      "image/png": "[encoded data removed]",
      "text/plain": [
       "<Figure size 432x288 with 1 Axes>"
      ]
     },
     "metadata": {
      "needs_background": "light"
     },
     "output_type": "display_data"
    }
   ],
   "source": [
    "plt.plot(x[:22],  y[:22], 'o', color='black');\n",
    "plt.plot(x[:22],y_true[:22], '.-',color='blue')\n",
    "plt.ylim([0.2e-7,0.7e-7])\n",
    "print(np.mean(y))\n",
    "print(np.mean(y_true))"
   ]
  },
  {
   "cell_type": "code",
   "execution_count": 470,
   "metadata": {},
   "outputs": [
    {
     "data": {
      "text/plain": [
       "<matplotlib.legend.Legend at 0x7fe863211410>"
      ]
     },
     "execution_count": 470,
     "metadata": {},
     "output_type": "execute_result"
    },
    {
     "data": {
      "image/png": "[encoded data removed]",
      "text/plain": [
       "<Figure size 432x288 with 1 Axes>"
      ]
     },
     "metadata": {
      "needs_background": "light"
     },
     "output_type": "display_data"
    }
   ],
   "source": [
    "plt.plot(sir.beta_list,'.-',label='beta (remove rate)')\n",
    "plt.plot(sir.alpha_list,'.-',label='alpha (transmission rate)')\n",
    "plt.legend()"
   ]
  },
  {
   "cell_type": "code",
   "execution_count": null,
   "metadata": {},
   "outputs": [],
   "source": [
    "sir.betas"
   ]
  },
  {
   "cell_type": "code",
   "execution_count": null,
   "metadata": {},
   "outputs": [],
   "source": []
  }
 ],
 "metadata": {
  "kernelspec": {
   "display_name": "Python 3",
   "language": "python",
   "name": "python3"
  },
  "language_info": {
   "codemirror_mode": {
    "name": "ipython",
    "version": 3
   },
   "file_extension": ".py",
   "mimetype": "text/x-python",
   "name": "python",
   "nbconvert_exporter": "python",
   "pygments_lexer": "ipython3",
   "version": "3.7.6"
  }
 },
 "nbformat": 4,
 "nbformat_minor": 4
}
