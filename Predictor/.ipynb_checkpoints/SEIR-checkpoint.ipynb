{
 "cells": [
  {
   "cell_type": "code",
   "execution_count": 1,
   "metadata": {},
   "outputs": [],
   "source": [
    "import sys\n",
    "import os\n",
    "from traceback import print_exc\n",
    "from pprint import pprint\n",
    "from common.utils import read_params, get_data\n",
    "from common.stats import RSS, MSPE, RMSE\n",
    "from common.linalg import as_array, as_matrix, init_weights\n",
    "from common.config import data_type\n",
    "from time import time\n",
    "from numpy import cov, tile, std, average, mean, eye, ones, corrcoef, inf\n",
    "from numpy.random import choice, multivariate_normal, normal, uniform\n",
    "from scipy.stats import norm"
   ]
  },
  {
   "cell_type": "code",
   "execution_count": 2,
   "metadata": {},
   "outputs": [],
   "source": [
    "#Parameters\n",
    "s = 0.8\n",
    "e = 0.10\n",
    "i = 0.10\n",
    "r = 0 \n",
    "\n",
    "beta  = 0.9\n",
    "alpha = 0.7\n",
    "gamma = 0.3\n",
    "\n",
    "epoch = 0\n",
    "epochs = 15"
   ]
  },
  {
   "cell_type": "code",
   "execution_count": 3,
   "metadata": {},
   "outputs": [],
   "source": [
    "class SEIR():\n",
    "    def __init__(self,s,e,i,r,alpha,beta,gamma):\n",
    "        self.s = float(s)\n",
    "        self.e = float(e)\n",
    "        self.i = float(i)\n",
    "        self.r = float(r)\n",
    "        \n",
    "        self.alpha = float(alpha)\n",
    "        self.beta  = float(beta)\n",
    "        self.gamma = float(gamma)\n",
    "        \n",
    "        self.s_hist = [self.s]\n",
    "        self.e_hist = [self.e]\n",
    "        self.i_hist = [self.i]\n",
    "        self.r_hist = [self.r]\n",
    "        self.control_hist = []\n",
    "        \n",
    "    def fit(self, s = inf,e = inf,i = inf,r = inf,alpha = inf,beta = inf,gamma = inf):\n",
    "        self.s = self.s if float(s) is inf else s\n",
    "        self.e = self.e if float(e) is inf else e\n",
    "        self.i = self.i if float(i) is inf else i\n",
    "        self.r = self.r if float(r) is inf else r\n",
    "        \n",
    "        self.alpha = self.alpha if float(alpha) is inf else alpha\n",
    "        self.beta  = self.beta if float(beta) is inf else beta\n",
    "        self.gamma = self.gamma if float(gamma) is inf else gamma\n",
    "        \n",
    "        \n",
    "    def step(self,sb,eb,ib,rb,alpha,beta,gamma):\n",
    "        self.s = sb - sb*ib*beta\n",
    "        self.e = eb +sb*ib*beta -eb*alpha\n",
    "        self.i = ib + eb*alpha - ib*gamma\n",
    "        self.r = rb + ib*gamma\n",
    "        \n",
    "        self.s_hist.append(self.s)\n",
    "        self.e_hist.append(self.e)\n",
    "        self.i_hist.append(self.i)\n",
    "        self.r_hist.append(self.r)\n",
    "        \n",
    "        control = s+e+i+r\n",
    "        self.control_hist.append(control)\n",
    "        print(' s =',self.s)\n",
    "        print(' e =',self.e)\n",
    "        print(' i =',self.i)\n",
    "        print(' r =',self.r)\n",
    "        print(' control =',control)\n",
    "    \n",
    "    def predict(self, epoch = 0, epochs = 20):\n",
    "        while epoch < epochs:\n",
    "            print('epoch:', epoch)\n",
    "            model.step(model.s,model.e,model.i,model.r,model.alpha,model.beta,model.gamma)\n",
    "            epoch += 1"
   ]
  },
  {
   "cell_type": "code",
   "execution_count": 4,
   "metadata": {},
   "outputs": [],
   "source": [
    "model = SEIR(s,e,i,r,alpha,beta,gamma)"
   ]
  },
  {
   "cell_type": "code",
   "execution_count": 5,
   "metadata": {},
   "outputs": [
    {
     "name": "stdout",
     "output_type": "stream",
     "text": [
      " s = 0.728\n",
      " e = 0.10200000000000005\n",
      " i = 0.13999999999999999\n",
      " r = 0.03\n",
      " control = 1.0\n"
     ]
    }
   ],
   "source": [
    "model.step(model.s,model.e,model.i,model.r,model.alpha,model.beta,model.gamma)"
   ]
  },
  {
   "cell_type": "code",
   "execution_count": 6,
   "metadata": {},
   "outputs": [],
   "source": [
    "model.fit(s,e,i,r,alpha,beta,gamma)"
   ]
  },
  {
   "cell_type": "code",
   "execution_count": 7,
   "metadata": {},
   "outputs": [
    {
     "name": "stdout",
     "output_type": "stream",
     "text": [
      "epoch: 0\n",
      " s = 0.728\n",
      " e = 0.10200000000000005\n",
      " i = 0.13999999999999999\n",
      " r = 0.03\n",
      " control = 1.0\n",
      "epoch: 1\n",
      " s = 0.636272\n",
      " e = 0.122328\n",
      " i = 0.16940000000000005\n",
      " r = 0.072\n",
      " control = 1.0\n",
      "epoch: 2\n",
      " s = 0.53926597088\n",
      " e = 0.13370442912000005\n",
      " i = 0.20420960000000007\n",
      " r = 0.12282000000000001\n",
      " control = 1.0\n",
      "epoch: 3\n",
      " s = 0.44015501149368513\n",
      " e = 0.13922228812231485\n",
      " i = 0.23653982038400007\n",
      " r = 0.18408288000000003\n",
      " control = 1.0\n",
      "epoch: 4\n",
      " s = 0.3464522428698347\n",
      " e = 0.13546945506054486\n",
      " i = 0.26303347595442045\n",
      " r = 0.2550448261152001\n",
      " control = 1.0\n",
      "epoch: 5\n",
      " s = 0.2644365589450028\n",
      " e = 0.12265652044299541\n",
      " i = 0.2789520517104757\n",
      " r = 0.3339548689015262\n",
      " control = 1.0\n",
      "epoch: 6\n",
      " s = 0.19804795034653278\n",
      " e = 0.10318556473136864\n",
      " i = 0.28112600050742975\n",
      " r = 0.41764048441466894\n",
      " control = 1.0\n",
      "epoch: 7\n",
      " s = 0.14793916497587944\n",
      " e = 0.08106445479006393\n",
      " i = 0.2690180956671589\n",
      " r = 0.5019782845668979\n",
      " control = 1.0\n",
      "epoch: 8\n",
      " s = 0.11212068378311878\n",
      " e = 0.06013781762977985\n",
      " i = 0.24505778532005595\n",
      " r = 0.5826837132670455\n",
      " control = 1.0\n",
      "epoch: 9\n",
      " s = 0.08739224197230351\n",
      " e = 0.042769787099749226\n",
      " i = 0.21363692206488508\n",
      " r = 0.6562010488630623\n",
      " control = 1.0\n",
      "epoch: 10\n",
      " s = 0.07058905334372219\n",
      " e = 0.029634124758506093\n",
      " i = 0.179484696415244\n",
      " r = 0.7202921254825279\n",
      " control = 1.0\n",
      "epoch: 11\n",
      " s = 0.059186364015048495\n",
      " e = 0.020292926756225526\n",
      " i = 0.14638317482162505\n",
      " r = 0.7741375344071011\n",
      " control = 1.0\n",
      "epoch: 12\n",
      " s = 0.051388864931444435\n",
      " e = 0.013885377110471723\n",
      " i = 0.11667327110449541\n",
      " r = 0.8180524868535886\n",
      " control = 1.0\n",
      "epoch: 13\n",
      " s = 0.04599272865853559\n",
      " e = 0.009561749406050358\n",
      " i = 0.09139105375047699\n",
      " r = 0.8530544681849371\n",
      " control = 1.0\n",
      "epoch: 14\n",
      " s = 0.0422097371152686\n",
      " e = 0.006651516365082105\n",
      " i = 0.07066696220956914\n",
      " r = 0.8804717843100802\n",
      " control = 1.0\n"
     ]
    }
   ],
   "source": [
    "model.predict(0,15)"
   ]
  },
  {
   "cell_type": "code",
   "execution_count": 8,
   "metadata": {},
   "outputs": [
    {
     "data": {
      "text/plain": [
       "<matplotlib.legend.Legend at 0x7faed57ce790>"
      ]
     },
     "execution_count": 8,
     "metadata": {},
     "output_type": "execute_result"
    },
    {
     "data": {
      "image/png": "[encoded data removed]",
      "text/plain": [
       "<Figure size 432x288 with 1 Axes>"
      ]
     },
     "metadata": {
      "needs_background": "light"
     },
     "output_type": "display_data"
    }
   ],
   "source": [
    "import matplotlib.pyplot as plt\n",
    "\n",
    "plt.plot(model.s_hist,'.-',label='Susceptible')\n",
    "plt.plot(model.e_hist,'.-',label='Exposed')\n",
    "plt.plot(model.i_hist,'.-',label='Infected')\n",
    "plt.plot(model.r_hist,'.-',label='Removed')\n",
    "plt.plot(model.control_hist,'.-',label='control (s+e+i+r = 1)')\n",
    "plt.legend()"
   ]
  }
 ],
 "metadata": {
  "kernelspec": {
   "display_name": "Python 3",
   "language": "python",
   "name": "python3"
  },
  "language_info": {
   "codemirror_mode": {
    "name": "ipython",
    "version": 3
   },
   "file_extension": ".py",
   "mimetype": "text/x-python",
   "name": "python",
   "nbconvert_exporter": "python",
   "pygments_lexer": "ipython3",
   "version": "3.8.3"
  }
 },
 "nbformat": 4,
 "nbformat_minor": 4
}
